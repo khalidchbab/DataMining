{
 "cells": [
  {
   "cell_type": "markdown",
   "metadata": {},
   "source": [
    "<a id='top'></a>\n",
    "#  <center> *Community Detection: CDlib*\n",
    "\n",
    "![](https://user-images.githubusercontent.com/5682381/28490289-d2e92b58-6ed6-11e7-8b9e-769f74524023.gif)\n",
    "\n",
    "\n",
    "Realisé par :    \n",
    "- ASRI Mohamed Amin \n",
    "- BOUBKER Ayoub\n",
    "- CHBAB Khalid\n",
    "- DRIOUCHE Adnane\n",
    "- OUHMAID Khalid\n",
    " \n",
    "\n",
    "``CDlib`` est une bibliothèque python conçue pour fournir un support à l'extraction et à l'analyse des regroupements de réseaux.\n",
    "\n",
    "Dans ce notebook, nous allons présenter certaines des principales caractéristiques de la bibliothèque et un aperçu de ses fonctionnalités.\n"
   ]
  },
  {
   "cell_type": "markdown",
   "metadata": {},
   "source": [
    "## Sommaire\n",
    "\n",
    "1. [Installation de CDlib](#install)\n",
    "2. [Community Discovery Workflow](#workflow)\n",
    "    1. [Création des graphes](#graph)\n",
    "    2. [Algorithme(s) du Community Discovery: choix et configuration ](#model)\n",
    "    3. [Évaluation du Clustering (Fitness functions)](#fitness)\n",
    "    4. [Évaluation du Clustering (Comparaison)](#comparison)\n",
    "    5. [Visualisation du Communauté/Statistiques](#visualization)\n",
    "3. [Installations avancées: Pooling et Optimization](#advanced) \n",
    "    1. [Pooling](#pooling)\n",
    "    2. [Optimization](#optimization)\n",
    "4. [Conclusions](#conclusion)"
   ]
  },
  {
   "cell_type": "markdown",
   "metadata": {},
   "source": [
    "<a id='install'></a>\n",
    "\n",
    "## 1. Installation de CDlib [🔼](#top)"
   ]
  },
  {
   "cell_type": "markdown",
   "metadata": {},
   "source": [
    "Dans un premier temps, nous devons nous assurer que ``CDlib`` est installé et fonctionne. \n",
    "\n",
    "La bibliothèque est disponible pour python>=3.8, et sa version stable peut être installée en utilisant ``pip``:"
   ]
  },
  {
   "cell_type": "code",
   "execution_count": null,
   "metadata": {},
   "outputs": [],
   "source": [
    "pip install cdlib"
   ]
  },
  {
   "cell_type": "markdown",
   "metadata": {},
   "source": [
    "nous avons aussi installer ``networkx``."
   ]
  },
  {
   "cell_type": "code",
   "execution_count": null,
   "metadata": {},
   "outputs": [],
   "source": [
    "pip install networkx"
   ]
  },
  {
   "cell_type": "markdown",
   "metadata": {},
   "source": [
    "<a id='workflow'></a>\n",
    "## 2. Community Discovery Workflow [🔼](#top)\n",
    "\n",
    "``CDlib`` permet d'extraire, d'analyser et de comparer les regroupements de réseaux en appliquant plusieurs approches. Workflow peut être résumé comme suit :\n",
    "- Création des graphes\n",
    "- Community Discovery algorithm(s) selection and configuration\n",
    "- Évaluation du Clustering (Fitness functions)\n",
    "- Évaluation du Clustering (Comparaison)\n",
    "- Visualisation du Communauté/Statistiques\n",
    "\n",
    "Dans cette section, nous allons observer comment modéliser un workflow en appliquant deux algorithmes classiques de regroupement de réseaux : Label Propagation et Leiden."
   ]
  },
  {
   "cell_type": "markdown",
   "metadata": {},
   "source": [
    "<a id=\"graph\"></a>\n",
    "### 2.A Création des graphes [🔼](#top)"
   ]
  },
  {
   "cell_type": "markdown",
   "metadata": {},
   "source": [
    "Dans un premier temps, nous devons définir la topologie du réseau qui sera utilisée comme terrain de jeu pour étudier les phénomènes diffusifs.\n",
    "\n",
    "``CDlib`` supporte [``networkx``](https://networkx.github.io) et [``igraph``](https://igraph.org/python/) les structures de données.\n",
    "\n",
    "Dans nos exemples, pour des raisons de simplicité, nous utiliserons ``networkx`` pour des graphes non orientés . "
   ]
  },
  {
   "cell_type": "code",
   "execution_count": 61,
   "metadata": {},
   "outputs": [],
   "source": [
    "from cdlib import algorithms\n",
    "import networkx as nx\n",
    "import cdlib"
   ]
  },
  {
   "cell_type": "markdown",
   "metadata": {},
   "source": [
    "<a id=\"model\"></a>\n",
    "### 2.B Algorithme(s) du Community Discovery: choix et configuration [🔼](#top)\n",
    "\n",
    "Après avoir défini le graphe, nous pouvons sélectionner le ou les algorithmes pour le partitionner."
   ]
  },
  {
   "cell_type": "code",
   "execution_count": 65,
   "metadata": {},
   "outputs": [],
   "source": [
    "g = nx.karate_club_graph()\n",
    "lp_coms = algorithms.label_propagation(g)\n",
    "leiden_coms = algorithms.leiden(g)"
   ]
  },
  {
   "cell_type": "markdown",
   "metadata": {},
   "source": [
    "Tous les algorithmes de découverte de communauté génèrent comme résultat un objet qui implémente une instance concrète du type de données ``Clustering``.\n",
    "\n",
    "En particulier, Louvain et Label Propagation renvoient tous deux un objet ``NodeClustering`` ayant les propriétés suivantes :"
   ]
  },
  {
   "cell_type": "code",
   "execution_count": 32,
   "metadata": {},
   "outputs": [
    {
     "data": {
      "text/plain": [
       "'Leiden'"
      ]
     },
     "execution_count": 32,
     "metadata": {},
     "output_type": "execute_result"
    }
   ],
   "source": [
    "# Nom de l'algorithme de clustering\n",
    "leiden_coms.method_name "
   ]
  },
  {
   "cell_type": "code",
   "execution_count": 33,
   "metadata": {},
   "outputs": [
    {
     "data": {
      "text/plain": [
       "{'initial_membership': None, 'weights': None}"
      ]
     },
     "execution_count": 33,
     "metadata": {},
     "output_type": "execute_result"
    }
   ],
   "source": [
    "# Paramètres du Clustering \n",
    "leiden_coms.method_parameters "
   ]
  },
  {
   "cell_type": "code",
   "execution_count": 34,
   "metadata": {},
   "outputs": [
    {
     "data": {
      "text/plain": [
       "[[8, 9, 14, 15, 18, 20, 22, 26, 29, 30, 32, 33],\n",
       " [0, 1, 2, 3, 7, 11, 12, 13, 17, 19, 21],\n",
       " [23, 24, 25, 27, 28, 31],\n",
       " [4, 5, 6, 10, 16]]"
      ]
     },
     "execution_count": 34,
     "metadata": {},
     "output_type": "execute_result"
    }
   ],
   "source": [
    "# Identification du Clusering\n",
    "leiden_coms.communities "
   ]
  },
  {
   "cell_type": "code",
   "execution_count": 35,
   "metadata": {},
   "outputs": [
    {
     "data": {
      "text/plain": [
       "False"
      ]
     },
     "execution_count": 35,
     "metadata": {},
     "output_type": "execute_result"
    }
   ],
   "source": [
    "leiden_coms.overlap "
   ]
  },
  {
   "cell_type": "code",
   "execution_count": 36,
   "metadata": {},
   "outputs": [
    {
     "data": {
      "text/plain": [
       "1.0"
      ]
     },
     "execution_count": 36,
     "metadata": {},
     "output_type": "execute_result"
    }
   ],
   "source": [
    "# Pourcentage de nœuds couverts par le clustering\n",
    "leiden_coms.node_coverage "
   ]
  },
  {
   "cell_type": "markdown",
   "metadata": {},
   "source": [
    "De plus, les objets de ``Clustering`` permettent également de générer une représentation JSON des résultats."
   ]
  },
  {
   "cell_type": "code",
   "execution_count": 37,
   "metadata": {},
   "outputs": [
    {
     "data": {
      "text/plain": [
       "'{\"communities\": [[8, 9, 14, 15, 18, 20, 22, 26, 29, 30, 32, 33], [0, 1, 2, 3, 7, 11, 12, 13, 17, 19, 21], [23, 24, 25, 27, 28, 31], [4, 5, 6, 10, 16]], \"algorithm\": \"Leiden\", \"params\": {\"initial_membership\": null, \"weights\": null}, \"overlap\": false, \"coverage\": 1.0}'"
      ]
     },
     "execution_count": 37,
     "metadata": {},
     "output_type": "execute_result"
    }
   ],
   "source": [
    "leiden_coms.to_json()"
   ]
  },
  {
   "cell_type": "markdown",
   "metadata": {},
   "source": [
    "<a id=\"fitness\"></a>\n",
    "### 2.C Évaluation du Clustering (Fitness functions) ([to top](#top))\n",
    "\n",
    "Après avoir obtenu un clustering de réseau, nous pouvons calculer plusieurs index sur celui-ci. \n",
    "\n",
    "Pour un même indice, il est possible d'obtenir une représentation synthétique de ses valeurs min/max/moyenne/std."
   ]
  },
  {
   "cell_type": "code",
   "execution_count": 38,
   "metadata": {},
   "outputs": [
    {
     "data": {
      "text/plain": [
       "FitnessResult(min=2.3333333333333335, max=4.181818181818182, score=3.103787878787879, std=0.7758948002447444)"
      ]
     },
     "execution_count": 38,
     "metadata": {},
     "output_type": "execute_result"
    }
   ],
   "source": [
    "leiden_coms.average_internal_degree()"
   ]
  },
  {
   "cell_type": "code",
   "execution_count": 39,
   "metadata": {},
   "outputs": [
    {
     "data": {
      "text/plain": [
       "[3.5, 4.181818181818182, 2.3333333333333335, 2.4]"
      ]
     },
     "execution_count": 39,
     "metadata": {},
     "output_type": "execute_result"
    }
   ],
   "source": [
    "leiden_coms.average_internal_degree(summary=False)"
   ]
  },
  {
   "cell_type": "markdown",
   "metadata": {},
   "source": [
    "Les scores de Fitness peuvent également être instanciés au niveau de la Library."
   ]
  },
  {
   "cell_type": "code",
   "execution_count": 40,
   "metadata": {},
   "outputs": [
    {
     "data": {
      "text/plain": [
       "FitnessResult(min=2.3333333333333335, max=4.181818181818182, score=3.103787878787879, std=0.7758948002447444)"
      ]
     },
     "execution_count": 40,
     "metadata": {},
     "output_type": "execute_result"
    }
   ],
   "source": [
    "from cdlib import evaluation\n",
    "\n",
    "evaluation.average_internal_degree(g, leiden_coms)"
   ]
  },
  {
   "cell_type": "markdown",
   "metadata": {},
   "source": [
    "<a id=\"comparison\"></a>\n",
    "### 2.D Évaluation du Clustering (Comparaison) ([to top](#top))\n",
    "\n",
    "Lorsque plusieurs clusters ont été calculés sur un même réseau, il est utile de mesurer leur ressemblance.\n",
    "\n",
    "``CDlib`` permet de le faire en exposant plusieurs scores de ressemblance de clustering, chacun d'entre eux étant adapté pour supporter un type spécifique de clustering de réseau (crisp/partition, couverture complète/partielle des nœuds).\n",
    "\n",
    "Comme pour les fonctions de fitness, les scores de ressemblance peuvent être instanciés au niveau de la communauté et de la Library aussi."
   ]
  },
  {
   "cell_type": "code",
   "execution_count": 41,
   "metadata": {},
   "outputs": [
    {
     "data": {
      "text/plain": [
       "MatchingResult(score=0.5421597004371672, std=None)"
      ]
     },
     "execution_count": 41,
     "metadata": {},
     "output_type": "execute_result"
    }
   ],
   "source": [
    "leiden_coms.normalized_mutual_information(lp_coms)"
   ]
  },
  {
   "cell_type": "code",
   "execution_count": 42,
   "metadata": {},
   "outputs": [
    {
     "data": {
      "text/plain": [
       "MatchingResult(score=0.5421597004371672, std=None)"
      ]
     },
     "execution_count": 42,
     "metadata": {},
     "output_type": "execute_result"
    }
   ],
   "source": [
    "evaluation.normalized_mutual_information(leiden_coms, lp_coms)"
   ]
  },
  {
   "cell_type": "markdown",
   "metadata": {},
   "source": [
    "<a id=\"visualization\"></a>\n",
    "### 2.E Visualisation du Communauté/Statistiques ([to top](#top))\n",
    "\n",
    "``CDlib`` permet de générer deux familles de tracés prédéfinis :\n",
    "- Visualisations de réseaux/communautés\n",
    "- Visualisations de Fitness/comparaison des communautés"
   ]
  },
  {
   "cell_type": "markdown",
   "metadata": {},
   "source": [
    "#### 2.E.1 Visualisation des graphes\n",
    "\n",
    "Une façon de visualiser les communautés identifiées sur un graphe est de colorer les nœuds du graphe en conséquence."
   ]
  },
  {
   "cell_type": "code",
   "execution_count": 43,
   "metadata": {},
   "outputs": [
    {
     "data": {
      "text/plain": [
       "<matplotlib.collections.PathCollection at 0x22a930e4f40>"
      ]
     },
     "execution_count": 43,
     "metadata": {},
     "output_type": "execute_result"
    },
    {
     "data": {
      "image/png": "[encoded data removed]",
      "text/plain": [
       "<Figure size 360x360 with 1 Axes>"
      ]
     },
     "metadata": {},
     "output_type": "display_data"
    }
   ],
   "source": [
    "from cdlib import viz\n",
    "\n",
    "pos = nx.spring_layout(g)\n",
    "viz.plot_network_clusters(g, leiden_coms, pos, figsize=(5, 5))"
   ]
  },
  {
   "cell_type": "code",
   "execution_count": 44,
   "metadata": {},
   "outputs": [
    {
     "data": {
      "text/plain": [
       "<matplotlib.collections.PathCollection at 0x22a9315a1c0>"
      ]
     },
     "execution_count": 44,
     "metadata": {},
     "output_type": "execute_result"
    },
    {
     "data": {
      "image/png": "[encoded data removed]",
      "text/plain": [
       "<Figure size 360x360 with 1 Axes>"
      ]
     },
     "metadata": {},
     "output_type": "display_data"
    }
   ],
   "source": [
    "viz.plot_network_clusters(g, lp_coms, pos, figsize=(5, 5))"
   ]
  },
  {
   "cell_type": "markdown",
   "metadata": {},
   "source": [
    "Cette stratégie est réalisable lorsque le réseau est suffisamment petit. Dans le cas de graphes de taille moyenne, une alternative consiste à regrouper tous les nœuds de communauté en un seul méta-nœud et à visualiser le graphe de communauté résultant :"
   ]
  },
  {
   "cell_type": "code",
   "execution_count": 45,
   "metadata": {},
   "outputs": [
    {
     "data": {
      "text/plain": [
       "<matplotlib.collections.PathCollection at 0x22a931b3a30>"
      ]
     },
     "execution_count": 45,
     "metadata": {},
     "output_type": "execute_result"
    },
    {
     "data": {
      "image/png": "[encoded data removed]",
      "text/plain": [
       "<Figure size 216x216 with 1 Axes>"
      ]
     },
     "metadata": {},
     "output_type": "display_data"
    }
   ],
   "source": [
    "viz.plot_community_graph(g, leiden_coms, figsize=(3, 3))"
   ]
  },
  {
   "cell_type": "code",
   "execution_count": 46,
   "metadata": {},
   "outputs": [
    {
     "data": {
      "text/plain": [
       "<matplotlib.collections.PathCollection at 0x22a9322cca0>"
      ]
     },
     "execution_count": 46,
     "metadata": {},
     "output_type": "execute_result"
    },
    {
     "data": {
      "image/png": "[encoded data removed]",
      "text/plain": [
       "<Figure size 216x216 with 1 Axes>"
      ]
     },
     "metadata": {},
     "output_type": "display_data"
    }
   ],
   "source": [
    "viz.plot_community_graph(g, lp_coms, figsize=(3, 3))"
   ]
  },
  {
   "cell_type": "markdown",
   "metadata": {},
   "source": [
    "#### 2.E.2 Visualisations de Fitness/comparaison des communautés\n",
    "\n",
    "Etant donné un (ou de plusieurs) regroupement(s), il peut être utile de visualiser comment une fonction de fitness donnée se répartit sur les communautés.\n",
    "\n",
    "Pour ca on utilise les diagrammes de violon."
   ]
  },
  {
   "cell_type": "code",
   "execution_count": 47,
   "metadata": {
    "scrolled": true
   },
   "outputs": [
    {
     "data": {
      "text/plain": [
       "<AxesSubplot:xlabel='Algorithm', ylabel='internal_edge_density'>"
      ]
     },
     "execution_count": 47,
     "metadata": {},
     "output_type": "execute_result"
    },
    {
     "data": {
      "image/png": "[encoded data removed]",
      "text/plain": [
       "<Figure size 432x288 with 1 Axes>"
      ]
     },
     "metadata": {
      "needs_background": "light"
     },
     "output_type": "display_data"
    }
   ],
   "source": [
    "viz.plot_com_stat([leiden_coms, lp_coms], evaluation.internal_edge_density)"
   ]
  },
  {
   "cell_type": "markdown",
   "metadata": {},
   "source": [
    "Un autre type de visualisation simple qui permet d'obtenir quelques aperçus des caractéristiques de la communauté est le diagramme de dispersion.\n",
    "\n",
    "Nous pouvons facilement comparer par paire les fonctions de fitness pour un ou plusieurs clusters comme suit :"
   ]
  },
  {
   "cell_type": "code",
   "execution_count": 48,
   "metadata": {},
   "outputs": [
    {
     "data": {
      "text/plain": [
       "<seaborn.axisgrid.FacetGrid at 0x22a932a8640>"
      ]
     },
     "execution_count": 48,
     "metadata": {},
     "output_type": "execute_result"
    },
    {
     "data": {
      "image/png": "[encoded data removed]",
      "text/plain": [
       "<Figure size 360x360 with 1 Axes>"
      ]
     },
     "metadata": {
      "needs_background": "light"
     },
     "output_type": "display_data"
    }
   ],
   "source": [
    "viz.plot_com_properties_relation([leiden_coms, lp_coms], evaluation.size, evaluation.internal_edge_density)"
   ]
  },
  {
   "cell_type": "markdown",
   "metadata": {},
   "source": [
    "Supposons que nous voulions comparer différents regroupements sur un ensemble de partitions de vérité de base du réseau.\n",
    "\n",
    "Afin d'obtenir un exemple plus intéressant, nous pouvons générer quelques graphes synthétiques avec des regroupements de vérité terrain plantés et effectuer le CD sur ceux-ci. <br/> Nous pouvons facilement comparer visuellement leurs résultats comme suit :"
   ]
  },
  {
   "cell_type": "code",
   "execution_count": 49,
   "metadata": {},
   "outputs": [
    {
     "data": {
      "text/plain": [
       "<AxesSubplot:xlabel='graph', ylabel='score'>"
      ]
     },
     "execution_count": 49,
     "metadata": {},
     "output_type": "execute_result"
    },
    {
     "data": {
      "image/png": "[encoded data removed]",
      "text/plain": [
       "<Figure size 432x288 with 1 Axes>"
      ]
     },
     "metadata": {
      "needs_background": "light"
     },
     "output_type": "display_data"
    }
   ],
   "source": [
    "from cdlib import NodeClustering\n",
    "\n",
    "g1 = nx.generators.community.LFR_benchmark_graph(1000, 3, 1.5, 0.5, min_community=20, average_degree=5)\n",
    "g2 = nx.generators.community.LFR_benchmark_graph(1000, 3, 1.5, 0.6, min_community=20, average_degree=5)\n",
    "g3 = nx.generators.community.LFR_benchmark_graph(1000, 3, 1.5, 0.7, min_community=20, average_degree=5)\n",
    "\n",
    "names = [\"g1\", \"g2\", \"g3\"]\n",
    "graphs = [g1, g2, g3]\n",
    "references = []\n",
    "\n",
    "# building the NodeClustering ground truth for the graphs\n",
    "for g in graphs:\n",
    "    ground_truth = NodeClustering(communities={frozenset(g.nodes[v]['community']) for v in g}, graph=g, method_name=\"reference\")\n",
    "    references.append(ground_truth)\n",
    "    \n",
    "algos = [algorithms.leiden, algorithms.label_propagation]\n",
    "\n",
    "# Computing the visualization (2 execution per method, NMI as scoring for ground truth resemblance)\n",
    "viz.plot_scoring(graphs, references, names, algos, scoring=evaluation.adjusted_mutual_information, nbRuns=2)"
   ]
  },
  {
   "cell_type": "markdown",
   "metadata": {},
   "source": [
    "<a id='advanced'></a>\n",
    "## 3. Installations avancées: Pooling et Optimization ([to top](#top))"
   ]
  },
  {
   "cell_type": "markdown",
   "metadata": {},
   "source": [
    "``CDlib`` offre quelques fonctionnalités pour automatiser l'exécution de plusieurs approches CD sur un même graph.\n",
    "\n",
    "\n",
    "Les fonctionnalités offertes peuvent être globalement regroupées en deux sous-classes:\n",
    "- Pooling, et\n",
    "- Optimization\n",
    "\n"
   ]
  },
  {
   "cell_type": "markdown",
   "metadata": {},
   "source": [
    "<a id='pooling'></a>\n",
    "### 3.A Pooling\n",
    "\n",
    "Pooling permet d'empiler l'exécution de plusieurs algorithmes\n"
   ]
  },
  {
   "cell_type": "code",
   "execution_count": 53,
   "metadata": {},
   "outputs": [
    {
     "name": "stdout",
     "output_type": "stream",
     "text": [
      "Louvain \n",
      " [[8, 14, 15, 18, 20, 22, 23, 26, 27, 29, 30, 32, 33], [0, 1, 2, 3, 7, 9, 11, 12, 13, 17, 19, 21], [4, 5, 6, 10, 16], [24, 25, 28, 31]]\n",
      "Leiden \n",
      " [[8, 9, 14, 15, 18, 20, 22, 26, 29, 30, 32, 33], [0, 1, 2, 3, 7, 11, 12, 13, 17, 19, 21], [23, 24, 25, 27, 28, 31], [4, 5, 6, 10, 16]]\n"
     ]
    }
   ],
   "source": [
    "from cdlib import ensemble\n",
    "\n",
    "# Louvain configuration\n",
    "methods = [algorithms.louvain, algorithms.leiden]\n",
    "\n",
    "for coms in ensemble.pool(g, methods, configurations=[[], []]):\n",
    "    print(coms.method_name, \"\\n\", coms.communities)"
   ]
  },
  {
   "cell_type": "markdown",
   "metadata": {},
   "source": [
    "Le paramètre  ``configuration`` permet de définir une liste de paramètres pour chaque algorithme. <br/>\n",
    "Chaque liste ne doit contenir que des instances de ``Parameter`` ou ``BoolParameter`` tuples nommés.\n"
   ]
  },
  {
   "cell_type": "code",
   "execution_count": 54,
   "metadata": {},
   "outputs": [
    {
     "name": "stdout",
     "output_type": "stream",
     "text": [
      "Leiden \n",
      " [[8, 9, 14, 15, 18, 20, 22, 26, 29, 30, 32, 33], [0, 1, 2, 3, 7, 11, 12, 13, 17, 19, 21], [23, 24, 25, 27, 28, 31], [4, 5, 6, 10, 16]]\n",
      "Leiden \n",
      " [[8, 9, 14, 15, 18, 20, 22, 26, 29, 30, 32, 33], [0, 1, 2, 3, 7, 11, 12, 13, 17, 19, 21], [23, 24, 25, 27, 28, 31], [4, 5, 6, 10, 16]]\n"
     ]
    }
   ],
   "source": [
    "# Exemple de configuration de Louvain\n",
    "resolution = ensemble.Parameter(name=\"resolution\", start=0.1)\n",
    "randomize = ensemble.BoolParameter(name=\"randomize\", value=True)\n",
    "louvain_conf = [resolution, randomize]\n",
    "\n",
    "methods = [algorithms.louvain, algorithms.leiden]\n",
    "\n",
    "for communities in ensemble.pool(g, methods, [louvain_conf, []]):\n",
    "    print(coms.method_name, \"\\n\", coms.communities)"
   ]
  },
  {
   "cell_type": "markdown",
   "metadata": {},
   "source": [
    "``Parameter`` et ``Bool Parameter`` permettent de définir également des plages de grille, par exemple :"
   ]
  },
  {
   "cell_type": "code",
   "execution_count": 55,
   "metadata": {},
   "outputs": [],
   "source": [
    "resolution = ensemble.Parameter(name=\"resolution\", start=0.1, end=1, step=0.1) # numeric range\n",
    "randomize = ensemble.BoolParameter(name=\"randomize\") # boolean range [True, False]"
   ]
  },
  {
   "cell_type": "markdown",
   "metadata": {},
   "source": [
    "Une telle généralisation permet leur utilisation dans une autre fonction de Pooling : Grid Execution.\n",
    "\n",
    "Grid Execution prend soin d'instancier un algorithme CD avec toutes les combinaisons possibles de valeurs de paramètres (produit cartésien) telles qu'exprimées par les plages passées en entrée."
   ]
  },
  {
   "cell_type": "code",
   "execution_count": 56,
   "metadata": {},
   "outputs": [
    {
     "name": "stdout",
     "output_type": "stream",
     "text": [
      "Louvain {'weight': 'weight', 'resolution': 0.7, 'randomize': None} \n",
      " [[8, 14, 15, 18, 20, 22, 26, 29, 30, 32, 33], [0, 1, 3, 7, 11, 12, 13, 17, 19, 21], [23, 24, 25, 27, 28, 31], [4, 5, 6, 10, 16], [2, 9]] \n",
      "\n",
      "Louvain {'weight': 'weight', 'resolution': 0.7999999999999999, 'randomize': None} \n",
      " [[8, 9, 14, 15, 18, 20, 22, 26, 29, 30, 32, 33], [0, 1, 2, 3, 7, 11, 12, 13, 17, 19, 21], [23, 24, 25, 27, 28, 31], [4, 5, 6, 10, 16]] \n",
      "\n",
      "Louvain {'weight': 'weight', 'resolution': 0.8999999999999999, 'randomize': None} \n",
      " [[8, 9, 14, 15, 18, 20, 22, 26, 29, 30, 32, 33], [0, 1, 2, 3, 7, 11, 12, 13, 17, 19, 21], [23, 24, 25, 27, 28, 31], [4, 5, 6, 10, 16]] \n",
      "\n",
      "Louvain {'weight': 'weight', 'resolution': 0.9999999999999999, 'randomize': None} \n",
      " [[8, 9, 14, 15, 18, 20, 22, 26, 29, 30, 32, 33], [0, 1, 2, 3, 7, 11, 12, 13, 17, 19, 21], [23, 24, 25, 27, 28, 31], [4, 5, 6, 10, 16]] \n",
      "\n"
     ]
    }
   ],
   "source": [
    "resolution = ensemble.Parameter(name=\"resolution\", start=0.7, end=1, step=0.1)\n",
    "\n",
    "for coms in ensemble.grid_execution(graph=g, method=algorithms.louvain, parameters=[resolution]):\n",
    "    print(coms.method_name, coms.method_parameters, \"\\n\", coms.communities, \"\\n\")"
   ]
  },
  {
   "cell_type": "markdown",
   "metadata": {},
   "source": [
    "<a id='optimization'></a>\n",
    "### 3.A Optimization\n",
    "\n",
    "Il est souvent judicieux d'exécuter plusieurs fois un algorithme de CD donné, en faisant varier ses paramètres w,r,t , afin d'identifier la configuration optimale par rapport à. un score de condition physique donné."
   ]
  },
  {
   "cell_type": "markdown",
   "metadata": {},
   "source": [
    "La façon la plus simple de le faire est d'effectuer une recherche par grille :"
   ]
  },
  {
   "cell_type": "code",
   "execution_count": 70,
   "metadata": {},
   "outputs": [
    {
     "name": "stdout",
     "output_type": "stream",
     "text": [
      "Communities:\n",
      " [[8, 14, 15, 18, 20, 22, 23, 26, 27, 29, 30, 32, 33], [0, 1, 2, 3, 7, 9, 11, 12, 13, 17, 19, 21], [4, 5, 6, 10, 16], [24, 25, 28, 31]] \n",
      "Configuration: {'weight': 'weight', 'resolution': 0.8, 'randomize': False} \n",
      "Scoring: FitnessResult(min=None, max=None, score=0.4712052653229123, std=None)\n"
     ]
    }
   ],
   "source": [
    "resolution = ensemble.Parameter(name=\"resolution\", start=0.1, end=1, step=0.1)\n",
    "randomize = ensemble.BoolParameter(name=\"randomize\")\n",
    "\n",
    "coms, scoring = ensemble.grid_search(graph=g, method=algorithms.louvain,\n",
    "                                                     parameters=[resolution, randomize],\n",
    "                                                     quality_score=evaluation.erdos_renyi_modularity,\n",
    "                                                     aggregate=max)\n",
    "\n",
    "print(\"Communities:\\n %s \\nConfiguration: %s \\nScoring: %s\" %(coms.communities, coms.method_parameters, scoring))"
   ]
  },
  {
   "cell_type": "markdown",
   "metadata": {},
   "source": [
    "La recherche de grille exécutera **toute** la configuration possible telle qu'exprimée par les paramètres de la méthode et ne renverra que la partition optimale w.r.t. la fonction de fitness spécifiée (modularité ER dans notre exemple) et la fonction d'agrégation (nous voulons maximiser le score de fitness)."
   ]
  },
  {
   "cell_type": "markdown",
   "metadata": {},
   "source": [
    "En effet, une telle stratégie pourrait être coûteuse. <br/>\n",
    "Pour cette raison, ``CDlib`` implémente également une stratégie d'optimisation de la recherche aléatoire qui réduit le nombre d'instanciations de méthodes sur les grilles de configuration (en le contrôlant via la valeur du paramètre ``instance``)."
   ]
  },
  {
   "cell_type": "code",
   "execution_count": 71,
   "metadata": {},
   "outputs": [
    {
     "name": "stdout",
     "output_type": "stream",
     "text": [
      "Communities:\n",
      " [[8, 14, 15, 18, 20, 22, 23, 26, 27, 29, 30, 32, 33], [0, 1, 2, 3, 7, 9, 11, 12, 13, 17, 19, 21], [4, 5, 6, 10, 16], [24, 25, 28, 31]] \n",
      "Configuration: {'weight': 'weight', 'resolution': 0.8, 'randomize': False} \n",
      "Scoring: FitnessResult(min=None, max=None, score=0.4584533113944878, std=None)\n"
     ]
    }
   ],
   "source": [
    "communities, scoring = ensemble.random_search(graph=g, method=algorithms.louvain,\n",
    "                                                       parameters=[resolution, randomize],\n",
    "                                                       quality_score=evaluation.erdos_renyi_modularity,\n",
    "                                                       instances=5, aggregate=max)\n",
    "\n",
    "print(\"Communities:\\n %s \\nConfiguration: %s \\nScoring: %s\" %(coms.communities, coms.method_parameters, scoring))"
   ]
  },
  {
   "cell_type": "markdown",
   "metadata": {},
   "source": [
    "Enfin, on peut penser à combiner pooling et optimisation pour n'obtenir que les résultats optimaux pour tous les algorithmes que l'on souhaite appliquer à notre graphe.\n",
    "\n",
    "Dans ``CDlib`` nous pouvons le faire facilement comme suit :"
   ]
  },
  {
   "cell_type": "code",
   "execution_count": 72,
   "metadata": {},
   "outputs": [
    {
     "name": "stdout",
     "output_type": "stream",
     "text": [
      "Louvain\n",
      "Communities:\n",
      " [[8, 14, 15, 18, 20, 22, 23, 26, 27, 29, 30, 32, 33], [0, 1, 2, 3, 7, 9, 11, 12, 13, 17, 19, 21], [4, 5, 6, 10, 16], [24, 25, 28, 31]] \n",
      "Configuration: {'weight': 'weight', 'resolution': 0.8, 'randomize': False} \n",
      "Scoring: FitnessResult(min=None, max=None, score=0.4712052653229123, std=None)\n",
      "\n",
      "DEMON\n",
      "Communities:\n",
      " [[2, 8, 14, 15, 18, 20, 22, 23, 26, 27, 29, 30, 31, 32, 33], [8, 14, 15, 18, 20, 22, 23, 26, 27, 28, 29, 30, 31, 32, 33], [0, 1, 2, 3, 7, 8, 12, 13, 17, 19, 21, 30, 32, 33], [0, 4, 5, 6, 10, 16]] \n",
      "Configuration: {'epsilon': 0.5000000000000001, 'min_com_size': 3} \n",
      "Scoring: FitnessResult(min=None, max=None, score=0.757232963115316, std=None)\n",
      "\n"
     ]
    }
   ],
   "source": [
    "louvain_conf = [resolution, randomize]\n",
    "\n",
    "epsilon = ensemble.Parameter(name=\"epsilon\", start=0.2, end=0.7, step=0.1)\n",
    "demon_conf = [epsilon]\n",
    "\n",
    "methods = [algorithms.louvain, algorithms.demon]\n",
    "\n",
    "for coms, scoring in ensemble.pool_grid_filter(g, methods, [louvain_conf, demon_conf], quality_score=evaluation.erdos_renyi_modularity, aggregate=max):\n",
    "    print(\"%s\\nCommunities:\\n %s \\nConfiguration: %s \\nScoring: %s\\n\" %(coms.method_name, coms.communities, coms.method_parameters, scoring))"
   ]
  },
  {
   "cell_type": "markdown",
   "metadata": {},
   "source": [
    "<a id=\"conclusion\"></a>\n",
    "## 4. Conclusions ([to top](#top))"
   ]
  },
  {
   "cell_type": "markdown",
   "metadata": {},
   "source": [
    "Dans ce notebook, nous avons présenté les fonctionnalités de base offertes par ``CDlib``.\n",
    "\n"
   ]
  },
  {
   "cell_type": "code",
   "execution_count": null,
   "metadata": {},
   "outputs": [],
   "source": []
  }
 ],
 "metadata": {
  "kernelspec": {
   "display_name": "Python 3",
   "language": "python",
   "name": "python3"
  },
  "language_info": {
   "codemirror_mode": {
    "name": "ipython",
    "version": 3
   },
   "file_extension": ".py",
   "mimetype": "text/x-python",
   "name": "python",
   "nbconvert_exporter": "python",
   "pygments_lexer": "ipython3",
   "version": "3.8.5"
  }
 },
 "nbformat": 4,
 "nbformat_minor": 5
}
